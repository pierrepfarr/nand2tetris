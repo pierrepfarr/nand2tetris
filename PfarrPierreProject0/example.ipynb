{
 "cells": [
  {
   "cell_type": "code",
   "execution_count": 11,
   "metadata": {},
   "outputs": [
    {
     "name": "stdout",
     "output_type": "stream",
     "text": [
      "@i     \n",
      "       M=1    \n",
      "       @sum   \n",
      "       M=0    \n",
      "(LOOP) @i\n",
      "       D=M    \n",
      "       @100\n",
      "       D=D-A  \n",
      "       @END\n",
      "       D;JGT  \n",
      "       @i\n",
      "       D=M    \n",
      "       @sum\n",
      "       M=D+M  \n",
      "       @i\n",
      "       M=M+1  \n",
      "       @LOOP\n",
      "       0;JMP  \n",
      "  (END)\n",
      "       @END\n",
      "       0;JMP\n"
     ]
    }
   ],
   "source": [
    "import re\n",
    "\n",
    "pattern_1 = re.compile(\"\\/{2}.*$\",re.MULTILINE)\n",
    "pattern_2 = re.compile(\"\\/\\*.*\\*\\/\",re.DOTALL)\n",
    "\n",
    "def read_file(file)->str:\n",
    "    try:\n",
    "        with open(file) as f:\n",
    "            lines = f.read()\n",
    "        return lines\n",
    "    except:\n",
    "        print(\"Could not find the file\")\n",
    "\n",
    "def clean(file):\n",
    "    temp = read_file(file)\n",
    "    temp = re.sub(pattern_1,\"\",temp)\n",
    "    temp = re.sub(pattern_2,\"\",temp)\n",
    "    temp = temp.strip()\n",
    "    clean_file = temp\n",
    "    return clean_file\n",
    "\n",
    "fname = \"myWonderfulProgram.in\"\n",
    "test = clean(fname)\n",
    "print(test)\n"
   ]
  },
  {
   "cell_type": "code",
   "execution_count": 16,
   "metadata": {},
   "outputs": [
    {
     "name": "stdout",
     "output_type": "stream",
     "text": [
      "\tThis is a test\n",
      "            of Strip\n",
      "        yes   \n",
      "This is a test\n",
      "            of Strip\n",
      "        yes\n"
     ]
    }
   ],
   "source": [
    "test = \"\"\"\\tThis is a test\n",
    "            of Strip\n",
    "        yes   \"\"\"\n",
    "print(test)\n",
    "print(test.strip())"
   ]
  },
  {
   "cell_type": "code",
   "execution_count": null,
   "metadata": {},
   "outputs": [],
   "source": []
  }
 ],
 "metadata": {
  "interpreter": {
   "hash": "79615e4862a679a6db45b2c80bc45c58d30cc34320eea1d97e6011363fa65aa3"
  },
  "kernelspec": {
   "display_name": "Python 3.8.3 64-bit ('3.8.3': pyenv)",
   "language": "python",
   "name": "python3"
  },
  "language_info": {
   "codemirror_mode": {
    "name": "ipython",
    "version": 3
   },
   "file_extension": ".py",
   "mimetype": "text/x-python",
   "name": "python",
   "nbconvert_exporter": "python",
   "pygments_lexer": "ipython3",
   "version": "3.8.3"
  },
  "orig_nbformat": 4
 },
 "nbformat": 4,
 "nbformat_minor": 2
}
